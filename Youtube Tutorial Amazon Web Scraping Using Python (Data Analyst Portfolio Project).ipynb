{
 "cells": [
  {
   "cell_type": "markdown",
   "id": "c1412f0f",
   "metadata": {},
   "source": [
    "* Amazon Web Scraping Using Python | Data Analyst Portfolio Project"
   ]
  },
  {
   "cell_type": "code",
   "execution_count": 33,
   "id": "f3cf6cb5",
   "metadata": {},
   "outputs": [],
   "source": [
    "from bs4 import BeautifulSoup\n",
    "import requests\n",
    "import time\n",
    "import datetime\n",
    "import smtplib # this laibrary is for sending emails to your self.\n",
    "\n",
    "import os"
   ]
  },
  {
   "cell_type": "code",
   "execution_count": 44,
   "id": "a8880034",
   "metadata": {},
   "outputs": [
    {
     "name": "stdout",
     "output_type": "stream",
     "text": [
      "Default Text\n",
      "0null\n"
     ]
    }
   ],
   "source": [
    "# Connect to Website and pull in data\n",
    "\n",
    "URL = 'https://www.amazon.com/Funny-Data-Systems-Business-Analyst/dp/B07FNW9FGJ/ref=sr_1_3?dchild=1&keywords=data%2Banalyst%2Btshirt&qid=1626655184&sr=8-3&customId=B0752XJYNL&th=1'\n",
    "\n",
    "#headers = {\"User-Agent\": \"Mozilla/5.0 (Windows NT 10.0; Win64; x64) AppleWebKit/537.36 (KHTML, like Gecko) Chrome/78.0.3904.108 Safari/537.36\", \"Accept-Encoding\":\"gzip, deflate\", \"Accept\":\"text/html,application/xhtml+xml,application/xml;q=0.9,*/*;q=0.8\", \"DNT\":\"1\",\"Connection\":\"close\", \"Upgrade-Insecure-Requests\":\"1\"}\n",
    "\n",
    "page = requests.get(URL)\n",
    "\n",
    "soup1 = BeautifulSoup(page.content, \"html.parser\")\n",
    "\n",
    "soup2 = BeautifulSoup(soup1.prettify(), \"html.parser\")\n",
    "\n",
    "title = soup2.find(id='productTitle')\n",
    "if title is not None:\n",
    "    title = title.get_text()\n",
    "else:\n",
    "    title = \"null\"\n",
    "    \n",
    "price = soup2.find(id='priceblock_ourprice')\n",
    "if price is not None:\n",
    "    price = price.get_text()\n",
    "else:\n",
    "    price = \"0null\"\n",
    "\n",
    "print(text)\n",
    "print(price)\n",
    "# price = soup2.find(id='priceblock_ourprice').get_text() \n",
    "# here the price of this item is not available so it will cause an error of (AttributeError: 'NoneType' object has no attribute 'get_text')\n"
   ]
  },
  {
   "cell_type": "code",
   "execution_count": 45,
   "id": "8df82c02",
   "metadata": {},
   "outputs": [
    {
     "name": "stdout",
     "output_type": "stream",
     "text": [
      "Funny Got Data MIS Data Systems Business Analyst T-Shirt\n",
      "null\n"
     ]
    }
   ],
   "source": [
    "price = price.strip()[1:]\n",
    "title = title.strip()\n",
    "\n",
    "print(title)\n",
    "print(price)"
   ]
  },
  {
   "cell_type": "code",
   "execution_count": 38,
   "id": "1c842ce5",
   "metadata": {},
   "outputs": [],
   "source": [
    "#path = r\"C:/Users/HP/OneDrive/Desktop/Tutorial/Python Tutorial/Amazon Web Scraping Using Python (Data Analyst Portfolio Project)/\"\n",
    "#if not os.path.exists(path + 'AmazonWebScraperDataset.csv'):# this code checks if the path does exist or not.\n",
    "#    os.makedirs(path + 'AmazonWebScraperDataset.csv')"
   ]
  },
  {
   "cell_type": "code",
   "execution_count": 46,
   "id": "bf61b3b0",
   "metadata": {},
   "outputs": [],
   "source": [
    "import csv\n",
    "\n",
    "file_path = 'C:/Users/HP/OneDrive/Desktop/Tutorial/Python Tutorial/Amazon Web Scraping Using Python (Data Analyst Portfolio Project)/AmazonWebScraperDataset.csv'\n",
    "header = ['Title', 'Price']\n",
    "data = [title, price]\n",
    "\n",
    "with open(file_path, 'w', newline = '', encoding = 'UTF8') as f:# w means open the file in write mode.\n",
    "    writer = csv.writer(f)\n",
    "    writer.writerow(header)\n",
    "    writer.writerow(data)"
   ]
  },
  {
   "cell_type": "code",
   "execution_count": 49,
   "id": "1b9ca345",
   "metadata": {},
   "outputs": [
    {
     "name": "stdout",
     "output_type": "stream",
     "text": [
      "2024-07-24\n"
     ]
    }
   ],
   "source": [
    "today = datetime.date.today()\n",
    "print(today)"
   ]
  },
  {
   "cell_type": "code",
   "execution_count": 50,
   "id": "1896e968",
   "metadata": {},
   "outputs": [],
   "source": [
    "file_path = 'C:/Users/HP/OneDrive/Desktop/Tutorial/Python Tutorial/Amazon Web Scraping Using Python (Data Analyst Portfolio Project)/AmazonWebScraperDataset.csv'\n",
    "header = ['Title', 'Price', 'Date']\n",
    "data = [title, price,today]\n",
    "\n",
    "with open(file_path, 'w', newline = '', encoding = 'UTF8') as f:# w means open the file in write mode.\n",
    "    writer = csv.writer(f)\n",
    "    writer.writerow(header)\n",
    "    writer.writerow(data)"
   ]
  },
  {
   "cell_type": "code",
   "execution_count": 59,
   "id": "9136cad9",
   "metadata": {},
   "outputs": [
    {
     "data": {
      "text/html": [
       "<div>\n",
       "<style scoped>\n",
       "    .dataframe tbody tr th:only-of-type {\n",
       "        vertical-align: middle;\n",
       "    }\n",
       "\n",
       "    .dataframe tbody tr th {\n",
       "        vertical-align: top;\n",
       "    }\n",
       "\n",
       "    .dataframe thead th {\n",
       "        text-align: right;\n",
       "    }\n",
       "</style>\n",
       "<table border=\"1\" class=\"dataframe\">\n",
       "  <thead>\n",
       "    <tr style=\"text-align: right;\">\n",
       "      <th></th>\n",
       "      <th>Title</th>\n",
       "      <th>Price</th>\n",
       "      <th>Date</th>\n",
       "    </tr>\n",
       "  </thead>\n",
       "  <tbody>\n",
       "    <tr>\n",
       "      <th>0</th>\n",
       "      <td>Funny Got Data MIS Data Systems Business Analy...</td>\n",
       "      <td>NaN</td>\n",
       "      <td>2024-07-24</td>\n",
       "    </tr>\n",
       "  </tbody>\n",
       "</table>\n",
       "</div>"
      ],
      "text/plain": [
       "                                               Title  Price        Date\n",
       "0  Funny Got Data MIS Data Systems Business Analy...    NaN  2024-07-24"
      ]
     },
     "execution_count": 59,
     "metadata": {},
     "output_type": "execute_result"
    }
   ],
   "source": [
    "import pandas as pd\n",
    "df = pd.read_csv(file_path)# when having a variable there is no need to write r before it just incase of pulling the path without a variable. \n",
    "df"
   ]
  },
  {
   "cell_type": "code",
   "execution_count": null,
   "id": "96fad0b7",
   "metadata": {},
   "outputs": [],
   "source": [
    "# appending data to the file\n",
    "\n",
    "with open(file_path, 'a+', newline = '', encoding = 'UTF8') as f:# a+ means open the file in append mode.\n",
    "    writer = csv.writer(f)\n",
    "    writer.writerow(data)\n"
   ]
  },
  {
   "cell_type": "code",
   "execution_count": null,
   "id": "79ea84c6",
   "metadata": {},
   "outputs": [],
   "source": [
    "\n",
    "def check_price():\n",
    "    URL = 'https://www.amazon.com/Funny-Data-Systems-Business-Analyst/dp/B07FNW9FGJ/ref=sr_1_3?dchild=1&keywords=data%2Banalyst%2Btshirt&qid=1626655184&sr=8-3&customId=B0752XJYNL&th=1'\n",
    "\n",
    "    #headers = {\"User-Agent\": \"Mozilla/5.0 (Windows NT 10.0; Win64; x64) AppleWebKit/537.36 (KHTML, like Gecko) Chrome/78.0.3904.108 Safari/537.36\", \"Accept-Encoding\":\"gzip, deflate\", \"Accept\":\"text/html,application/xhtml+xml,application/xml;q=0.9,*/*;q=0.8\", \"DNT\":\"1\",\"Connection\":\"close\", \"Upgrade-Insecure-Requests\":\"1\"}\n",
    "\n",
    "    page = requests.get(URL)\n",
    "\n",
    "    soup1 = BeautifulSoup(page.content, \"html.parser\")\n",
    "\n",
    "    soup2 = BeautifulSoup(soup1.prettify(), \"html.parser\")\n",
    "    \n",
    "    #get the elements\n",
    "    title = soup2.find(id='productTitle')\n",
    "    if title is not None:\n",
    "        title = title.get_text()\n",
    "    else:\n",
    "        title = \"null\"\n",
    "    \n",
    "    price = soup2.find(id='priceblock_ourprice')\n",
    "    if price is not None:\n",
    "        price = price.get_text()\n",
    "    else:\n",
    "        price = \"0null\"\n",
    "    \n",
    "    #clean the retrieved element\n",
    "    price = price.strip()[1:]\n",
    "    title = title.strip()\n",
    "    \n",
    "    #get todays date\n",
    "    import datetime\n",
    "    today = datetime.date.today()\n",
    "    \n",
    "    #append the data to the created csv file\n",
    "    import csv\n",
    "    file_path = 'C:/Users/HP/OneDrive/Desktop/Tutorial/Python Tutorial/Amazon Web Scraping Using Python (Data Analyst Portfolio Project)/AmazonWebScraperDataset.csv'\n",
    "    header = ['Title', 'Price', 'Date']\n",
    "    data = [title, price,today]\n",
    "    \n",
    "    with open(file_path, 'a+', newline = '', encoding = 'UTF8') as f:# a+ means open the file in append mode.\n",
    "    writer = csv.writer(f)\n",
    "    writer.writerow(data)\n",
    "    "
   ]
  },
  {
   "cell_type": "code",
   "execution_count": null,
   "id": "48560334",
   "metadata": {},
   "outputs": [],
   "source": [
    "# appending the data automation: \n",
    "while(True):\n",
    "    check_price()\n",
    "    time.sleep(86400)# this code is for appinding data for every one day."
   ]
  },
  {
   "cell_type": "code",
   "execution_count": null,
   "id": "ee746ed3",
   "metadata": {},
   "outputs": [],
   "source": [
    "import pandas as pd\n",
    "df = pd.read_csv(file_path)# when having a variable there is no need to write r before it just incase of pulling the path without a variable. \n",
    "df"
   ]
  }
 ],
 "metadata": {
  "kernelspec": {
   "display_name": "Python 3 (ipykernel)",
   "language": "python",
   "name": "python3"
  },
  "language_info": {
   "codemirror_mode": {
    "name": "ipython",
    "version": 3
   },
   "file_extension": ".py",
   "mimetype": "text/x-python",
   "name": "python",
   "nbconvert_exporter": "python",
   "pygments_lexer": "ipython3",
   "version": "3.9.7"
  }
 },
 "nbformat": 4,
 "nbformat_minor": 5
}
